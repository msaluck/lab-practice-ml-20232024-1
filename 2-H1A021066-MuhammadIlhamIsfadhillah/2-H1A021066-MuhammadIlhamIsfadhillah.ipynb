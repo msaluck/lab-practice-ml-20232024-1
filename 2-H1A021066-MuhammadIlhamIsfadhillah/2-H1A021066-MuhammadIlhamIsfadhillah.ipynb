{
 "cells": [
  {
   "cell_type": "markdown",
   "metadata": {},
   "source": [
    "# 2.2.1 Preparing E-COMMERCE Platform Data"
   ]
  },
  {
   "cell_type": "markdown",
   "metadata": {},
   "source": [
    "# step 1 import library yang dibutuhkan"
   ]
  },
  {
   "cell_type": "code",
   "execution_count": 2,
   "metadata": {},
   "outputs": [],
   "source": [
    "import numpy as np\n",
    "import pandas as pd\n",
    "import matplotlib.pyplot as plt\n",
    "import seaborn as sns\n"
   ]
  },
  {
   "cell_type": "markdown",
   "metadata": {},
   "source": [
    "# step 2 membaca dataset"
   ]
  },
  {
   "cell_type": "code",
   "execution_count": 3,
   "metadata": {},
   "outputs": [],
   "source": [
    "data = pd.read_csv(\"ratings_Electronics.csv\",header= None) "
   ]
  },
  {
   "cell_type": "markdown",
   "metadata": {},
   "source": [
    "# step 3 membaca data 5 baris pertama "
   ]
  },
  {
   "cell_type": "code",
   "execution_count": 4,
   "metadata": {},
   "outputs": [
    {
     "name": "stdout",
     "output_type": "stream",
     "text": [
      "           userID   productID  Rating   timestamp\n",
      "0   AKM1MP6P0OYPR  0132793040     5.0  1365811200\n",
      "1  A2CX7LUOHB2NDG  0321732944     5.0  1341100800\n",
      "2  A2NWSAGRHCP8N5  0439886341     1.0  1367193600\n",
      "3  A2WNBOD3WNDNKT  0439886341     3.0  1374451200\n",
      "4  A1GI0U4ZRJA8WN  0439886341     1.0  1334707200\n"
     ]
    }
   ],
   "source": [
    "data.columns = [\"userID\",\"productID\",\"Rating\",\"timestamp\"]\n",
    "print(data.head(5))\n",
    "#print(data.drop(['userID','timestamp'],axis=1).groupby('productID').sum())\n",
    "#print(data.groupby('productID')['Rating'].head())"
   ]
  },
  {
   "cell_type": "markdown",
   "metadata": {},
   "source": [
    "# step 4 membaca size data"
   ]
  },
  {
   "cell_type": "code",
   "execution_count": 5,
   "metadata": {},
   "outputs": [
    {
     "name": "stdout",
     "output_type": "stream",
     "text": [
      "Total Baris / Row     :  7824482\n",
      "Total Kolom / Column  :  4\n",
      "\n",
      "( 7824482 , 4 )\n"
     ]
    }
   ],
   "source": [
    "print(\"Total Baris / Row     : \", data.shape[0])\n",
    "print(\"Total Kolom / Column  : \", data.shape[1])\n",
    "print()\n",
    "print(\"(\",data.shape[0],\",\",data.shape[1],\")\")"
   ]
  },
  {
   "cell_type": "markdown",
   "metadata": {},
   "source": [
    "# step 5 melihat tipe data dari isi header table"
   ]
  },
  {
   "cell_type": "code",
   "execution_count": 6,
   "metadata": {},
   "outputs": [
    {
     "name": "stdout",
     "output_type": "stream",
     "text": [
      "userID        object\n",
      "productID     object\n",
      "Rating       float64\n",
      "timestamp      int64\n",
      "dtype: object\n",
      "\n",
      "<class 'pandas.core.frame.DataFrame'>\n",
      "RangeIndex: 7824482 entries, 0 to 7824481\n",
      "Data columns (total 4 columns):\n",
      " #   Column     Dtype  \n",
      "---  ------     -----  \n",
      " 0   userID     object \n",
      " 1   productID  object \n",
      " 2   Rating     float64\n",
      " 3   timestamp  int64  \n",
      "dtypes: float64(1), int64(1), object(2)\n",
      "memory usage: 238.8+ MB\n",
      "None\n",
      "\n"
     ]
    }
   ],
   "source": [
    "print(data.dtypes)\n",
    "print()\n",
    "print(data.info())\n",
    "print()"
   ]
  },
  {
   "cell_type": "markdown",
   "metadata": {},
   "source": [
    "# step 6 melihat rating [maksimal dan minimal]"
   ]
  },
  {
   "cell_type": "code",
   "execution_count": 7,
   "metadata": {},
   "outputs": [
    {
     "name": "stdout",
     "output_type": "stream",
     "text": [
      "count    7.824482e+06\n",
      "mean     4.012337e+00\n",
      "std      1.380910e+00\n",
      "min      1.000000e+00\n",
      "25%      3.000000e+00\n",
      "50%      5.000000e+00\n",
      "75%      5.000000e+00\n",
      "max      5.000000e+00\n",
      "Name: Rating, dtype: float64\n",
      "\n",
      "Minimum Rating :  1.0\n",
      "\n",
      "Maximum Rating :  5.0\n"
     ]
    }
   ],
   "source": [
    "print(data.Rating.describe())\n",
    "print()\n",
    "print(\"Minimum Rating : \", data.Rating.min())\n",
    "print()\n",
    "print(\"Maximum Rating : \", data.Rating.max())"
   ]
  },
  {
   "cell_type": "markdown",
   "metadata": {},
   "source": [
    "# step 7 melihat default"
   ]
  },
  {
   "cell_type": "code",
   "execution_count": 8,
   "metadata": {},
   "outputs": [
    {
     "name": "stdout",
     "output_type": "stream",
     "text": [
      "userID       0\n",
      "productID    0\n",
      "Rating       0\n",
      "timestamp    0\n",
      "dtype: int64\n"
     ]
    }
   ],
   "source": [
    "print(data.isnull().sum())"
   ]
  },
  {
   "cell_type": "markdown",
   "metadata": {},
   "source": [
    "# step 8 melihat total number"
   ]
  },
  {
   "cell_type": "code",
   "execution_count": 9,
   "metadata": {},
   "outputs": [
    {
     "name": "stdout",
     "output_type": "stream",
     "text": [
      "Total no of Ratings :  5489\n",
      "Total No of Users : 4201696\n",
      "Total No of Products :  476002\n"
     ]
    }
   ],
   "source": [
    "print(\"Total no of Ratings : \", len(data.timestamp.unique()))\n",
    "print(\"Total No of Users :\",len(data.userID.unique()))\n",
    "print(\"Total No of Products : \", len(data.productID.unique()))"
   ]
  },
  {
   "cell_type": "markdown",
   "metadata": {},
   "source": [
    "# step 9 menghapus kolom timestamp"
   ]
  },
  {
   "cell_type": "code",
   "execution_count": 10,
   "metadata": {},
   "outputs": [
    {
     "name": "stdout",
     "output_type": "stream",
     "text": [
      "============================\n",
      "SEBELUM\n",
      "============================\n",
      "                 userID   productID  Rating   timestamp\n",
      "0         AKM1MP6P0OYPR  0132793040     5.0  1365811200\n",
      "1        A2CX7LUOHB2NDG  0321732944     5.0  1341100800\n",
      "2        A2NWSAGRHCP8N5  0439886341     1.0  1367193600\n",
      "3        A2WNBOD3WNDNKT  0439886341     3.0  1374451200\n",
      "4        A1GI0U4ZRJA8WN  0439886341     1.0  1334707200\n",
      "...                 ...         ...     ...         ...\n",
      "7824477  A2YZI3C9MOHC0L  BT008UKTMW     5.0  1396569600\n",
      "7824478  A322MDK0M89RHN  BT008UKTMW     5.0  1313366400\n",
      "7824479  A1MH90R0ADMIK0  BT008UKTMW     4.0  1404172800\n",
      "7824480  A10M2KEFPEQDHN  BT008UKTMW     4.0  1297555200\n",
      "7824481  A2G81TMIOIDEQQ  BT008V9J9U     5.0  1312675200\n",
      "\n",
      "[7824482 rows x 4 columns]\n",
      "============================\n",
      "SESUDAH\n",
      "============================\n",
      "                 userID   productID  Rating\n",
      "0         AKM1MP6P0OYPR  0132793040     5.0\n",
      "1        A2CX7LUOHB2NDG  0321732944     5.0\n",
      "2        A2NWSAGRHCP8N5  0439886341     1.0\n",
      "3        A2WNBOD3WNDNKT  0439886341     3.0\n",
      "4        A1GI0U4ZRJA8WN  0439886341     1.0\n",
      "...                 ...         ...     ...\n",
      "7824477  A2YZI3C9MOHC0L  BT008UKTMW     5.0\n",
      "7824478  A322MDK0M89RHN  BT008UKTMW     5.0\n",
      "7824479  A1MH90R0ADMIK0  BT008UKTMW     4.0\n",
      "7824480  A10M2KEFPEQDHN  BT008UKTMW     4.0\n",
      "7824481  A2G81TMIOIDEQQ  BT008V9J9U     5.0\n",
      "\n",
      "[7824482 rows x 3 columns]\n"
     ]
    }
   ],
   "source": [
    "print(\"============================\")\n",
    "print(\"SEBELUM\")\n",
    "print(\"============================\")\n",
    "print(data)\n",
    "print(\"============================\")\n",
    "databaru = data.drop(['timestamp'],axis=1) \n",
    "print(\"SESUDAH\")\n",
    "print(\"============================\")\n",
    "print(databaru)"
   ]
  },
  {
   "cell_type": "markdown",
   "metadata": {},
   "source": [
    "# step 10 menganalisis rating data [SORTING]"
   ]
  },
  {
   "cell_type": "code",
   "execution_count": 11,
   "metadata": {},
   "outputs": [
    {
     "name": "stdout",
     "output_type": "stream",
     "text": [
      "GROUPBY\n",
      "================================================\n",
      "userID\n",
      "A00000262KYZUE4J55XGL     5.0\n",
      "A000063614T1OE0BUSKUT    10.0\n",
      "A00009182QVLSWIGHLS1B     5.0\n",
      "A00009661LC9LQPGKJ24G     5.0\n",
      "A00010809P09NUU6ZP6H      5.0\n",
      "                         ... \n",
      "AZZZOVIBXHGDR            10.0\n",
      "AZZZRS1YZ8HVP             8.0\n",
      "AZZZSIK7NFFVP             5.0\n",
      "AZZZWXXUPZ1F3             5.0\n",
      "AZZZY1W55XHZR             4.0\n",
      "Name: Rating, Length: 4201696, dtype: float64\n",
      "\n",
      "SORT_VALUES BERDASARKAN RATING TINGGI KE RENDAH\n",
      "================================================\n",
      "\n",
      "                 userID   productID  Rating\n",
      "3912240   AU9KKT9CYFMZ7  B0046LHDE0     1.0\n",
      "2176930  A2CTDRPHKL5XUM  B001NLV1KS     1.0\n",
      "2176928   AL6Y1R7ZELZXV  B001NLSZ0W     1.0\n",
      "2176916   ANB6HN87KDR4P  B001NLJU0G     1.0\n",
      "2176896   ANNVJTD5TE002  B001NLAK82     1.0\n",
      "...                 ...         ...     ...\n",
      "3392287  A232A3LHZQM94Y  B003J3758K     5.0\n",
      "3392286   ABHP45ZBK88QP  B003J3758K     5.0\n",
      "3392285   AA1Y1XE97LLQQ  B003J3758K     5.0\n",
      "3392294   A22J953K1QLT8  B003J3759O     5.0\n",
      "7824481  A2G81TMIOIDEQQ  BT008V9J9U     5.0\n",
      "\n",
      "[7824482 rows x 3 columns]\n"
     ]
    }
   ],
   "source": [
    "print(\"GROUPBY\")\n",
    "print(\"================================================\")\n",
    "print(data.groupby(['userID'])['Rating'].sum())\n",
    "print()\n",
    "print(\"SORT_VALUES BERDASARKAN RATING TINGGI KE RENDAH\")\n",
    "print(\"================================================\")\n",
    "print()\n",
    "print(databaru.sort_values(['Rating'],ascending=True))\n",
    "\n"
   ]
  },
  {
   "cell_type": "markdown",
   "metadata": {},
   "source": [
    "# step 10 menganalisis rating data [QUANTILE]"
   ]
  },
  {
   "cell_type": "code",
   "execution_count": 12,
   "metadata": {},
   "outputs": [
    {
     "name": "stdout",
     "output_type": "stream",
     "text": [
      "QUANTILE 0.05 :  1.0\n",
      "\n",
      "QUANTILE 0.25 :  3.0\n"
     ]
    }
   ],
   "source": [
    "print(\"QUANTILE 0.05 : \",data['Rating'].quantile(0.05))\n",
    "print()\n",
    "print(\"QUANTILE 0.25 : \",data['Rating'].quantile(0.25))"
   ]
  },
  {
   "cell_type": "markdown",
   "metadata": {},
   "source": [
    "# 2.2.2 Recommending Products Based On the Product Popularity"
   ]
  },
  {
   "cell_type": "markdown",
   "metadata": {},
   "source": [
    "# step 1 sortir produk"
   ]
  },
  {
   "cell_type": "code",
   "execution_count": 13,
   "metadata": {},
   "outputs": [
    {
     "name": "stdout",
     "output_type": "stream",
     "text": [
      "Recommended Popular Products:\n",
      "        productID  ratings_count\n",
      "0      B0074BW614          18244\n",
      "1      B00DR0PDNE          16454\n",
      "2      B007WTAJTO          14172\n",
      "3      B0019EHU8G          12285\n",
      "4      B006GWO5WK          12226\n",
      "...           ...            ...\n",
      "25452  B005VOL9MI             51\n",
      "25451  B007VLJSSQ             51\n",
      "25450  B000B7PKKW             51\n",
      "25449  B00008IOX9             51\n",
      "25757  B00B7U6O2A             51\n",
      "\n",
      "[25758 rows x 2 columns]\n"
     ]
    }
   ],
   "source": [
    "\n",
    "\n",
    "# Assuming your dataset has columns 'productID' and 'Rating'\n",
    "\n",
    "\n",
    "product_ratings_count = data['productID'].value_counts().reset_index()\n",
    "product_ratings_count.columns = ['productID', 'ratings_count']\n",
    "\n",
    "\n",
    "threshold = 50  \n",
    "popular_products = product_ratings_count[product_ratings_count['ratings_count'] > threshold]\n",
    "\n",
    "\n",
    "popular_products_sorted = popular_products.sort_values(by='ratings_count', ascending=False)\n",
    "\n",
    "\n",
    "print(\"Recommended Popular Products:\")\n",
    "print(popular_products_sorted)\n"
   ]
  },
  {
   "cell_type": "markdown",
   "metadata": {},
   "source": [
    "# step 2 membuat average rating dari setiap produk "
   ]
  },
  {
   "cell_type": "code",
   "execution_count": 14,
   "metadata": {},
   "outputs": [
    {
     "name": "stdout",
     "output_type": "stream",
     "text": [
      "Products Sorted by Average Rating:\n",
      "         productID  average_rating\n",
      "0       0132793040             5.0\n",
      "242131  B004SGH244             5.0\n",
      "242641  B004SQBRRM             5.0\n",
      "242642  B004SQC6O0             5.0\n",
      "242644  B004SQE6YI             5.0\n",
      "...            ...             ...\n",
      "24402   B0001FC5IE             1.0\n",
      "210939  B00465T6KK             1.0\n",
      "131544  B001W1X0LW             1.0\n",
      "294178  B0069ZWXLE             1.0\n",
      "79730   B000TFNDKK             1.0\n",
      "\n",
      "[476002 rows x 2 columns]\n"
     ]
    }
   ],
   "source": [
    "# Step 1: Calculate the average rating for each product\n",
    "average_ratings = data.groupby('productID')['Rating'].mean().reset_index()\n",
    "average_ratings.columns = ['productID', 'average_rating']\n",
    "\n",
    "# Step 2: Sort products by average rating in descending order\n",
    "sorted_products_by_rating = average_ratings.sort_values(by='average_rating', ascending=False)\n",
    "\n",
    "# Step 3: Display the sorted products\n",
    "print(\"Products Sorted by Average Rating:\")\n",
    "print(sorted_products_by_rating)"
   ]
  },
  {
   "cell_type": "markdown",
   "metadata": {},
   "source": [
    "# step 2 [disort]"
   ]
  },
  {
   "cell_type": "code",
   "execution_count": 15,
   "metadata": {},
   "outputs": [
    {
     "name": "stdout",
     "output_type": "stream",
     "text": [
      "Recommended Popular Products:\n",
      "        productID  ratings_count\n",
      "0      B0074BW614          18244\n",
      "1      B00DR0PDNE          16454\n",
      "2      B007WTAJTO          14172\n",
      "3      B0019EHU8G          12285\n",
      "4      B006GWO5WK          12226\n",
      "...           ...            ...\n",
      "25452  B005VOL9MI             51\n",
      "25451  B007VLJSSQ             51\n",
      "25450  B000B7PKKW             51\n",
      "25449  B00008IOX9             51\n",
      "25757  B00B7U6O2A             51\n",
      "\n",
      "[25758 rows x 2 columns]\n"
     ]
    }
   ],
   "source": [
    "product_ratings_count = data['productID'].value_counts().reset_index()\n",
    "product_ratings_count.columns = ['productID', 'ratings_count']\n",
    "\n",
    "\n",
    "threshold = 50  \n",
    "popular_products = product_ratings_count[product_ratings_count['ratings_count'] > threshold]\n",
    "\n",
    "\n",
    "popular_products_sorted = popular_products.sort_values(by='ratings_count', ascending=False)\n",
    "\n",
    "\n",
    "print(\"Recommended Popular Products:\")\n",
    "print(popular_products_sorted)\n"
   ]
  },
  {
   "cell_type": "markdown",
   "metadata": {},
   "source": [
    "# step 3 memvisualisasikan hasilnya"
   ]
  },
  {
   "cell_type": "code",
   "execution_count": 43,
   "metadata": {},
   "outputs": [
    {
     "name": "stdout",
     "output_type": "stream",
     "text": [
      "Rankings of Products by Number of Ratings:\n",
      "         productID  ranking\n",
      "0       B0074BW614        1\n",
      "1       B00DR0PDNE        2\n",
      "2       B007WTAJTO        3\n",
      "3       B0019EHU8G        4\n",
      "4       B006GWO5WK        5\n",
      "...            ...      ...\n",
      "356176  B001UKZJZK   475998\n",
      "356177  B001UKZPDQ   475999\n",
      "356178  B001UKKHE8   476000\n",
      "356179  B001UKJFQO   476001\n",
      "476001  BT008V9J9U   476002\n",
      "\n",
      "[476002 rows x 2 columns]\n"
     ]
    }
   ],
   "source": [
    "# Step 1: Sort products by the number of rating times in descending order\n",
    "ranked_products_by_ratings_count = product_ratings_count.sort_values(by='ratings_count', ascending=False)\n",
    "\n",
    "# Step 2: Add a ranking column based on the sorted order\n",
    "ranked_products_by_ratings_count['ranking'] = range(1, len(ranked_products_by_ratings_count) + 1)\n",
    "\n",
    "# Step 3: Display the rankings of products by the number of rating times\n",
    "print(\"Rankings of Products by Number of Ratings:\")\n",
    "print(ranked_products_by_ratings_count[['productID', 'ranking']])"
   ]
  },
  {
   "cell_type": "code",
   "execution_count": 44,
   "metadata": {},
   "outputs": [
    {
     "data": {
      "image/png": "[encoded data removed]",
      "text/plain": [
       "<Figure size 640x480 with 1 Axes>"
      ]
     },
     "metadata": {},
     "output_type": "display_data"
    }
   ],
   "source": [
    "plt.hist(ranked_products_by_ratings_count['ranking'], bins=20, edgecolor='k')\n",
    "plt.xlabel('Product Ranking')\n",
    "plt.ylabel('Frequency')\n",
    "plt.title('Distribution of Product Rankings by Number of Ratings')\n",
    "plt.grid(True)\n",
    "plt.show()"
   ]
  },
  {
   "cell_type": "markdown",
   "metadata": {},
   "source": [
    "# 2.2.3 Recommending Products Based on Collaborative Filtering"
   ]
  },
  {
   "cell_type": "markdown",
   "metadata": {},
   "source": [
    "# step 1 membuat tabel hubungan antara produk dan user "
   ]
  },
  {
   "cell_type": "code",
   "execution_count": null,
   "metadata": {},
   "outputs": [],
   "source": [
    "\n",
    "sample_size = 10000\n",
    "sampled_data = data.sample(sample_size)\n",
    "\n",
    "\n",
    "pivot_table = pd.pivot_table(sampled_data, values='Rating', index='userID', columns='productID', fill_value=0)\n"
   ]
  },
  {
   "cell_type": "code",
   "execution_count": 19,
   "metadata": {},
   "outputs": [
    {
     "name": "stdout",
     "output_type": "stream",
     "text": [
      "Table Size (Shape): (9966, 7908)\n"
     ]
    }
   ],
   "source": [
    "\n",
    "table_shape = pivot_table.shape\n",
    "print(f\"Table Size (Shape): {table_shape}\")"
   ]
  },
  {
   "cell_type": "code",
   "execution_count": 18,
   "metadata": {},
   "outputs": [
    {
     "name": "stdout",
     "output_type": "stream",
     "text": [
      "Data Size (Number of Rows, Number of Columns): (7824482, 4)\n"
     ]
    }
   ],
   "source": [
    "# Step 1: View the size (number of rows and columns) of the DataFrame\n",
    "data_shape = data.shape\n",
    "\n",
    "# Step 2: Print the data size\n",
    "print(f\"Data Size (Number of Rows, Number of Columns): {data_shape}\")"
   ]
  },
  {
   "cell_type": "markdown",
   "metadata": {},
   "source": [
    "# step 2 mendekompos tabel"
   ]
  },
  {
   "cell_type": "code",
   "execution_count": 32,
   "metadata": {},
   "outputs": [],
   "source": [
    "import sklearn\n",
    "from sklearn.decomposition import TruncatedSVD\n",
    "\n",
    "# Assuming you have a pivot table named 'pivot_table'\n",
    "\n",
    "# Step 1: Perform Singular Value Decomposition (SVD)\n",
    "n_components = 10  # Number of components to keep (adjust as needed)\n",
    "svd = TruncatedSVD(n_components=n_components)\n",
    "product_features = svd.fit_transform(pivot_table)\n",
    "\n",
    "# Now, 'product_features' contains the reduced-dimension product-based features."
   ]
  },
  {
   "cell_type": "code",
   "execution_count": 33,
   "metadata": {},
   "outputs": [],
   "source": [
    "# Step 1: Transpose the 'product_features' matrix to have products as rows\n",
    "product_features_transposed = product_features.T\n",
    "\n",
    "# Step 2: Calculate the correlation coefficient matrix\n",
    "product_similarity_matrix = np.corrcoef(product_features_transposed)"
   ]
  },
  {
   "cell_type": "code",
   "execution_count": 41,
   "metadata": {},
   "outputs": [
    {
     "ename": "IndexError",
     "evalue": "index 10 is out of bounds for axis 0 with size 10",
     "output_type": "error",
     "traceback": [
      "\u001b[0;31m---------------------------------------------------------------------------\u001b[0m",
      "\u001b[0;31mIndexError\u001b[0m                                Traceback (most recent call last)",
      "\u001b[1;32m/home/f4dh/Documents/tugas/lab-practice-ml-20232024-1/2-H1A021066-MuhammadIlhamIsfadhillah/2-H1A021066-MuhammadIlhamIsfadhillah.ipynb Cell 42\u001b[0m line \u001b[0;36m9\n\u001b[1;32m      <a href='vscode-notebook-cell:/home/f4dh/Documents/tugas/lab-practice-ml-20232024-1/2-H1A021066-MuhammadIlhamIsfadhillah/2-H1A021066-MuhammadIlhamIsfadhillah.ipynb#X60sZmlsZQ%3D%3D?line=3'>4</a>\u001b[0m \u001b[39m# Assuming you have a 'product_similarity_matrix' containing product similarity scores\u001b[39;00m\n\u001b[1;32m      <a href='vscode-notebook-cell:/home/f4dh/Documents/tugas/lab-practice-ml-20232024-1/2-H1A021066-MuhammadIlhamIsfadhillah/2-H1A021066-MuhammadIlhamIsfadhillah.ipynb#X60sZmlsZQ%3D%3D?line=4'>5</a>\u001b[0m \n\u001b[1;32m      <a href='vscode-notebook-cell:/home/f4dh/Documents/tugas/lab-practice-ml-20232024-1/2-H1A021066-MuhammadIlhamIsfadhillah/2-H1A021066-MuhammadIlhamIsfadhillah.ipynb#X60sZmlsZQ%3D%3D?line=5'>6</a>\u001b[0m \u001b[39m# Step 1: Select products with a correlation greater than 0.65\u001b[39;00m\n\u001b[1;32m      <a href='vscode-notebook-cell:/home/f4dh/Documents/tugas/lab-practice-ml-20232024-1/2-H1A021066-MuhammadIlhamIsfadhillah/2-H1A021066-MuhammadIlhamIsfadhillah.ipynb#X60sZmlsZQ%3D%3D?line=6'>7</a>\u001b[0m similar_products \u001b[39m=\u001b[39m []\n\u001b[0;32m----> <a href='vscode-notebook-cell:/home/f4dh/Documents/tugas/lab-practice-ml-20232024-1/2-H1A021066-MuhammadIlhamIsfadhillah/2-H1A021066-MuhammadIlhamIsfadhillah.ipynb#X60sZmlsZQ%3D%3D?line=8'>9</a>\u001b[0m \u001b[39mfor\u001b[39;00m product_id, similarity_score \u001b[39min\u001b[39;00m \u001b[39menumerate\u001b[39m(product_similarity_matrix[selected_product]):\n\u001b[1;32m     <a href='vscode-notebook-cell:/home/f4dh/Documents/tugas/lab-practice-ml-20232024-1/2-H1A021066-MuhammadIlhamIsfadhillah/2-H1A021066-MuhammadIlhamIsfadhillah.ipynb#X60sZmlsZQ%3D%3D?line=9'>10</a>\u001b[0m     \u001b[39mif\u001b[39;00m similarity_score \u001b[39m>\u001b[39m \u001b[39m0.65\u001b[39m \u001b[39mand\u001b[39;00m product_id \u001b[39m!=\u001b[39m selected_product:\n\u001b[1;32m     <a href='vscode-notebook-cell:/home/f4dh/Documents/tugas/lab-practice-ml-20232024-1/2-H1A021066-MuhammadIlhamIsfadhillah/2-H1A021066-MuhammadIlhamIsfadhillah.ipynb#X60sZmlsZQ%3D%3D?line=10'>11</a>\u001b[0m         similar_products\u001b[39m.\u001b[39mappend((product_id, similarity_score))\n",
      "\u001b[0;31mIndexError\u001b[0m: index 10 is out of bounds for axis 0 with size 10"
     ]
    }
   ],
   "source": [
    "# Define the index of the selected product\n",
    "selected_product = 20  # Replace with the index of the product you want to recommend for\n",
    "\n",
    "# Assuming you have a 'product_similarity_matrix' containing product similarity scores\n",
    "\n",
    "# Step 1: Select products with a correlation greater than 0.65\n",
    "similar_products = []\n",
    "\n",
    "for product_id, similarity_score in enumerate(product_similarity_matrix[selected_product]):\n",
    "    if similarity_score > 0.65 and product_id != selected_product:\n",
    "        similar_products.append((product_id, similarity_score))\n",
    "\n",
    "# Step 2: Sort similar products by correlation score in descending order\n",
    "similar_products.sort(key=lambda x: x[1], reverse=True)\n",
    "\n",
    "# Step 3: Recommend the top similar products\n",
    "top_recommendations = [product_id for product_id, _ in similar_products]\n",
    "\n",
    "# Now, 'top_recommendations' contains the recommended product IDs based on similarity\n"
   ]
  },
  {
   "cell_type": "code",
   "execution_count": null,
   "metadata": {},
   "outputs": [],
   "source": [
    "# Assuming you have a DataFrame named 'data' with a column 'productID' and a product ID you want to check named 'selected_product_id'\n",
    "\n",
    "# Step 1: Check if the product exists in the dataset\n",
    "product_exists = selected_product_id in data['productID'].values\n",
    "\n",
    "# Step 2: Determine if the product is unique\n",
    "if product_exists:\n",
    "    print(f\"The product with ID {selected_product_id} exists in the dataset.\")\n",
    "else:\n",
    "    print(f\"The product with ID {selected_product_id} does not exist in the dataset.\")\n"
   ]
  },
  {
   "cell_type": "code",
   "execution_count": null,
   "metadata": {},
   "outputs": [],
   "source": [
    "# Assuming you have a 'product_similarity_matrix' containing product similarity scores\n",
    "# 'selected_product' is the index of the product for which you want to count similar products\n",
    "# 'similarity_threshold' is the minimum similarity score for a product to be considered similar\n",
    "\n",
    "# Step 1: Count the number of similar products\n",
    "similar_products_count = sum(product_similarity_matrix[selected_product] > similarity_threshold)\n",
    "\n",
    "# Step 2: Print the number of similar products\n",
    "print(f\"The number of similar products for product {selected_product} is {similar_products_count}.\")\n"
   ]
  },
  {
   "cell_type": "code",
   "execution_count": null,
   "metadata": {},
   "outputs": [],
   "source": [
    "# Assuming 'product_similarity_matrix' contains product similarity scores\n",
    "selected_product_index = 20  # Index of the 20th product\n",
    "similarity_threshold = 0.65\n",
    "\n",
    "# Step 1: Find products with a correlation greater than 0.65 with the 20th product\n",
    "similar_products_indices = [i for i, score in enumerate(product_similarity_matrix[selected_product_index]) if score > similarity_threshold]\n",
    "\n",
    "# Step 2: Delete the 20th product\n",
    "product_similarity_matrix = np.delete(product_similarity_matrix, selected_product_index, axis=0)\n",
    "product_similarity_matrix = np.delete(product_similarity_matrix, selected_product_index, axis=1)\n",
    "\n",
    "# Step 3: Recommend products ranked ahead\n",
    "ranked_similar_products = [(i, product_similarity_matrix[selected_product_index][i]) for i in similar_products_indices]\n",
    "ranked_similar_products.sort(key=lambda x: x[1], reverse=True)\n",
    "\n",
    "# Now, 'ranked_similar_products' contains the recommended products ranked ahead\n"
   ]
  }
 ],
 "metadata": {
  "kernelspec": {
   "display_name": "Python 3",
   "language": "python",
   "name": "python3"
  },
  "language_info": {
   "codemirror_mode": {
    "name": "ipython",
    "version": 3
   },
   "file_extension": ".py",
   "mimetype": "text/x-python",
   "name": "python",
   "nbconvert_exporter": "python",
   "pygments_lexer": "ipython3",
   "version": "3.11.5"
  },
  "orig_nbformat": 4
 },
 "nbformat": 4,
 "nbformat_minor": 2
}
