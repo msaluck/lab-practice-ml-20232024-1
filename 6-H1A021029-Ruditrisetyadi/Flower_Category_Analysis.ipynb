{
  "nbformat": 4,
  "nbformat_minor": 0,
  "metadata": {
    "colab": {
      "provenance": []
    },
    "kernelspec": {
      "name": "python3",
      "display_name": "Python 3"
    },
    "language_info": {
      "name": "python"
    }
  },
  "cells": [
    {
      "cell_type": "markdown",
      "source": [
        "# **Flower Category Analysis**"
      ],
      "metadata": {
        "id": "78fVjhcA9Z9x"
      }
    },
    {
      "cell_type": "markdown",
      "source": [
        "6.2.1 Importing Related Libraries"
      ],
      "metadata": {
        "id": "5fMGiRhwsAAL"
      }
    },
    {
      "cell_type": "code",
      "execution_count": 170,
      "metadata": {
        "id": "Bl68C4lTrmMZ"
      },
      "outputs": [],
      "source": [
        "import numpy as np\n",
        "import matplotlib.pyplot as plt"
      ]
    },
    {
      "cell_type": "markdown",
      "source": [
        "6.2.2 Importing a Dataset"
      ],
      "metadata": {
        "id": "5lK8GSO3sMmU"
      }
    },
    {
      "cell_type": "code",
      "source": [
        "from sklearn.datasets import load_iris\n",
        "data=load_iris()\n",
        "x=data.data\n",
        "y=data.target"
      ],
      "metadata": {
        "id": "F2sD1cj_ryG9"
      },
      "execution_count": 171,
      "outputs": []
    },
    {
      "cell_type": "markdown",
      "source": [
        "6.2.3 Splitting the Dataset"
      ],
      "metadata": {
        "id": "FUtTl6RZsT9c"
      }
    },
    {
      "cell_type": "code",
      "source": [
        "from sklearn.model_selection import train_test_split\n",
        "train_X,test_X,train_y,test_y=train_test_split(x,y)"
      ],
      "metadata": {
        "id": "3IYu74l_r9cf"
      },
      "execution_count": 193,
      "outputs": []
    },
    {
      "cell_type": "code",
      "source": [
        "x.shape"
      ],
      "metadata": {
        "colab": {
          "base_uri": "https://localhost:8080/"
        },
        "id": "vhkBiow5s0pd",
        "outputId": "db986d3e-b3b5-4cd1-a8fa-1d4c1f966cae"
      },
      "execution_count": 196,
      "outputs": [
        {
          "output_type": "execute_result",
          "data": {
            "text/plain": [
              "(150, 4)"
            ]
          },
          "metadata": {},
          "execution_count": 196
        }
      ]
    },
    {
      "cell_type": "code",
      "source": [
        "train_X.shape"
      ],
      "metadata": {
        "colab": {
          "base_uri": "https://localhost:8080/"
        },
        "id": "KfoFjog2s4xt",
        "outputId": "09ddb7ab-4abb-454d-82b7-a948733ce133"
      },
      "execution_count": 197,
      "outputs": [
        {
          "output_type": "execute_result",
          "data": {
            "text/plain": [
              "(112, 4)"
            ]
          },
          "metadata": {},
          "execution_count": 197
        }
      ]
    },
    {
      "cell_type": "markdown",
      "source": [
        "6.2.4 Performing Modeling"
      ],
      "metadata": {
        "id": "oz94LODFs-xR"
      }
    },
    {
      "cell_type": "markdown",
      "source": [
        "6.2.4.1 Logistic Regression"
      ],
      "metadata": {
        "id": "DAScGmPYthvu"
      }
    },
    {
      "cell_type": "code",
      "source": [
        "from sklearn.linear_model import LogisticRegression\n",
        "from sklearn.neighbors import KNeighborsClassifier\n",
        "from sklearn import svm\n",
        "from sklearn.tree import DecisionTreeClassifier"
      ],
      "metadata": {
        "id": "8tOzdcQcs9tT"
      },
      "execution_count": 175,
      "outputs": []
    },
    {
      "cell_type": "code",
      "source": [
        "model = LogisticRegression()\n",
        "model.fit(train_X,train_y)\n",
        "print('Logistic Regression:',model.score(test_X,test_y))"
      ],
      "metadata": {
        "colab": {
          "base_uri": "https://localhost:8080/"
        },
        "id": "qA3c76c2tsWu",
        "outputId": "d5a5f8ca-1d19-46fc-af4d-fe76a1e4c9c8"
      },
      "execution_count": 176,
      "outputs": [
        {
          "output_type": "stream",
          "name": "stdout",
          "text": [
            "Logistic Regression: 0.9736842105263158\n"
          ]
        }
      ]
    },
    {
      "cell_type": "markdown",
      "source": [
        "6.2.4.2 SVM"
      ],
      "metadata": {
        "id": "3UAdFZYIu4S7"
      }
    },
    {
      "cell_type": "code",
      "source": [
        "model=svm.SVC()\n",
        "model.fit(train_X,train_y)\n",
        "print('SVM:',model.score(test_X,test_y))"
      ],
      "metadata": {
        "colab": {
          "base_uri": "https://localhost:8080/"
        },
        "id": "Eb9yJ47-u8ae",
        "outputId": "e7deed2f-8a9b-432c-8230-2e48c9216771"
      },
      "execution_count": 180,
      "outputs": [
        {
          "output_type": "stream",
          "name": "stdout",
          "text": [
            "SVM: 0.8947368421052632\n"
          ]
        }
      ]
    },
    {
      "cell_type": "markdown",
      "source": [
        "6.2.4.3 Decision Tree"
      ],
      "metadata": {
        "id": "_Xv9CQhtv0br"
      }
    },
    {
      "cell_type": "code",
      "source": [
        "model=DecisionTreeClassifier()\n",
        "model.fit(train_X,train_y)\n",
        "print('Decision Tree',model.score(test_X,test_y))"
      ],
      "metadata": {
        "colab": {
          "base_uri": "https://localhost:8080/"
        },
        "id": "YqoerBfAv5xV",
        "outputId": "25ca130f-bff1-4b01-8f4f-17bdf5f8c1e0"
      },
      "execution_count": 181,
      "outputs": [
        {
          "output_type": "stream",
          "name": "stdout",
          "text": [
            "Decision Tree 0.9210526315789473\n"
          ]
        }
      ]
    },
    {
      "cell_type": "markdown",
      "source": [
        "6.2.4.4 K-Nearest Neighbors Algorithm"
      ],
      "metadata": {
        "id": "fbpC8QsVwSe1"
      }
    },
    {
      "cell_type": "code",
      "source": [
        "model=KNeighborsClassifier(n_neighbors=3)\n",
        "model.fit(train_X,train_y)\n",
        "print('KNN',model.score(test_X,test_y))"
      ],
      "metadata": {
        "colab": {
          "base_uri": "https://localhost:8080/"
        },
        "id": "y5sySskYwdeY",
        "outputId": "f83bcd40-080e-4469-ccae-12f876607130"
      },
      "execution_count": 182,
      "outputs": [
        {
          "output_type": "stream",
          "name": "stdout",
          "text": [
            "KNN 0.9736842105263158\n"
          ]
        }
      ]
    },
    {
      "cell_type": "code",
      "source": [
        "t=[]\n",
        "for i in range(1,11):\n",
        "  model=KNeighborsClassifier(n_neighbors=i)\n",
        "  model.fit(train_X,train_y)\n",
        "  print('heighbors:{},acc:{}'.format(i,model.score(test_X,test_y)))\n",
        "  t.append(model.score(test_X,test_y))\n",
        "plt.plot([i for i in range(1,11)],t)"
      ],
      "metadata": {
        "colab": {
          "base_uri": "https://localhost:8080/",
          "height": 627
        },
        "id": "-AZbj1tWw9Sw",
        "outputId": "f067288d-3f1d-475c-d926-d0064d48066b"
      },
      "execution_count": 183,
      "outputs": [
        {
          "output_type": "stream",
          "name": "stdout",
          "text": [
            "heighbors:1,acc:0.9473684210526315\n",
            "heighbors:2,acc:0.868421052631579\n",
            "heighbors:3,acc:0.9736842105263158\n",
            "heighbors:4,acc:0.868421052631579\n",
            "heighbors:5,acc:0.9473684210526315\n",
            "heighbors:6,acc:0.8947368421052632\n",
            "heighbors:7,acc:0.9210526315789473\n",
            "heighbors:8,acc:0.8947368421052632\n",
            "heighbors:9,acc:0.8947368421052632\n",
            "heighbors:10,acc:0.8947368421052632\n"
          ]
        },
        {
          "output_type": "execute_result",
          "data": {
            "text/plain": [
              "[<matplotlib.lines.Line2D at 0x7ca2758afca0>]"
            ]
          },
          "metadata": {},
          "execution_count": 183
        },
        {
          "output_type": "display_data",
          "data": {
            "text/plain": [
              "<Figure size 640x480 with 1 Axes>"
            ],
            "image/png": "[encoded data removed]"
          },
          "metadata": {}
        }
      ]
    },
    {
      "cell_type": "markdown",
      "source": [
        "6.2.5 Effect After Data Preprocessing"
      ],
      "metadata": {
        "id": "tjEDvobmxof3"
      }
    },
    {
      "cell_type": "code",
      "source": [
        "from sklearn.preprocessing import StandardScaler\n",
        "std=StandardScaler()\n",
        "train_X_std=std.fit_transform(train_X)\n",
        "test_X_std=std.fit_transform(test_X)\n",
        "print('after',train_X_std.std(axis=0),train_X_std.mean(axis=0))"
      ],
      "metadata": {
        "colab": {
          "base_uri": "https://localhost:8080/"
        },
        "id": "reFxYKmDxuA8",
        "outputId": "01601069-2400-44be-edea-ef3b39565c22"
      },
      "execution_count": 194,
      "outputs": [
        {
          "output_type": "stream",
          "name": "stdout",
          "text": [
            "after [1. 1. 1. 1.] [ 7.53365624e-17  1.37489226e-15 -3.93534411e-16  3.54379224e-16]\n"
          ]
        }
      ]
    },
    {
      "cell_type": "code",
      "source": [
        "model=svm.SVC()\n",
        "model.fit(train_X_std,train_y)\n",
        "print('SVM:',model.score(test_X_std,test_y))"
      ],
      "metadata": {
        "colab": {
          "base_uri": "https://localhost:8080/"
        },
        "id": "TUbdex13yX8Z",
        "outputId": "db9f5c51-7b4f-4a78-dbe1-abbbafc40f40"
      },
      "execution_count": 195,
      "outputs": [
        {
          "output_type": "stream",
          "name": "stdout",
          "text": [
            "SVM: 1.0\n"
          ]
        }
      ]
    }
  ]
}