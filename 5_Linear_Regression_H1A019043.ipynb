{
 "cells": [
  {
   "cell_type": "markdown",
   "metadata": {},
   "source": [
    "Linear Regression"
   ]
  },
  {
   "cell_type": "markdown",
   "metadata": {},
   "source": [
    "5.1 Introduction\n",
    "5.1.1 About This Lab\n",
    "This experiment uses the basic Python code and the simplest data to reproduce how a linear regression algorithm iterates and fits the existing data distribution.\n",
    "The NumPy and Matplotlib modules are used in the experiment. NumPy is used for calculation, and Matplotlib is used for drawing.\n",
    "\n",
    "5.1.2 Objectives\n",
    "Upon completion of this task, you will be able to:\n",
    " Be familiar with basic Python statements.\n",
    " Master the procedure for implementing linear regression."
   ]
  },
  {
   "cell_type": "markdown",
   "metadata": {},
   "source": [
    "5.2 Procedure\n",
    "5.2.1 Preparing Data\n",
    "Randomly set ten pieces of data, with the data in a linear relationship.\n",
    "Convert the data into an array format so that the data can be directly calculated when multiplication and addition are used."
   ]
  },
  {
   "cell_type": "code",
   "execution_count": 4,
   "metadata": {},
   "outputs": [
    {
     "data": {
      "image/png": "[encoded data removed]",
      "text/plain": [
       "<Figure size 432x288 with 1 Axes>"
      ]
     },
     "metadata": {
      "needs_background": "light"
     },
     "output_type": "display_data"
    }
   ],
   "source": [
    "# Import the required modules NumPy for calculation and Matplotlib for drawing. \n",
    "import numpy as np \n",
    "import matplotlib.pyplot as plt \n",
    "\n",
    "#This code is used only for Jupyter Notebook. \n",
    "%matplotlib inline \n",
    "\n",
    "# Define data and convert the list into an array.\n",
    "data = [[2, 4],\n",
    "        [3, 6],\n",
    "        [4, 8],\n",
    "        [5, 10],\n",
    "        [6, 12],\n",
    "        [7, 14],\n",
    "        [8, 16],\n",
    "        [9, 18],\n",
    "        [10, 20],\n",
    "        [11, 25]]\n",
    "\n",
    "data_array = np.array(data)\n",
    "\n",
    "x = [i[0] for i in data_array]\n",
    "y = [i[1] for i in data_array]\n",
    "\n",
    "plt.scatter(x, y)\n",
    "\n",
    "plt.xlabel('X Values')\n",
    "plt.ylabel('Y Values')\n",
    "plt.title('Scatter Chart of Data')\n",
    "\n",
    "# Display the data through the scatter chart.\n",
    "plt.show()"
   ]
  },
  {
   "cell_type": "markdown",
   "metadata": {},
   "source": [
    "5.2.2 Defining Related Functions\n",
    "Model function: defines the linear regression model wx+b.\n",
    "Loss function: calculates the mean square error.\n",
    "Optimization function: calculates the partial derivatives of w and b by using the gradient descent method."
   ]
  },
  {
   "cell_type": "code",
   "execution_count": 5,
   "metadata": {},
   "outputs": [],
   "source": [
    "# The basic linear regression model is wx+b. In this example, the model is ax+b as a two-dimensional space is used. \n",
    "def model(a, b, x): \n",
    "    return a*x + b\n",
    "\n",
    "# The mean square error loss function is the most commonly used loss function in the linear regression model. \n",
    "def loss_function(a, b, x, y):         \n",
    "    num = len(x)         \n",
    "    prediction=model(a,b,x)         \n",
    "    return (0.5/num) * (np.square(prediction-y)).sum()\n",
    "\n",
    "# The optimization function mainly uses the partial derivatives to update a and b. \n",
    "def optimize(a,b,x,y):         \n",
    "    num = len(x)         \n",
    "    prediction = model(a,b,x)         \n",
    "    #Update the values of A and B by finding the partial derivatives of the loss function on a and b\n",
    "    da = (1.0/num) * ((prediction -y)*x).sum()         \n",
    "    db = (1.0/num) * ((prediction -y).sum())\n",
    "    Lr = 1e-2\n",
    "    a = a - Lr*da         \n",
    "    b = b - Lr*db \n",
    "    return a, b \n",
    "\n",
    "# Perform function iteration to return a and b.\n",
    "def iterate(a,b,x,y,times):         \n",
    "    for i in range(times):                 \n",
    "        a,b = optimize(a,b,x,y)         \n",
    "        return a,b\n"
   ]
  },
  {
   "cell_type": "markdown",
   "metadata": {},
   "source": [
    "5.2.3 Starting Iteration\n",
    "Step 1 Initialize the iterative optimization model."
   ]
  },
  {
   "cell_type": "code",
   "execution_count": 6,
   "metadata": {},
   "outputs": [
    {
     "name": "stdout",
     "output_type": "stream",
     "text": [
      "[0.86476151]\n",
      "[0.02727514]\n",
      "[1.46928406] [0.10379289] 8.929461692093158\n"
     ]
    },
    {
     "data": {
      "text/plain": [
       "[<matplotlib.lines.Line2D at 0x2244734ca90>]"
      ]
     },
     "execution_count": 6,
     "metadata": {},
     "output_type": "execute_result"
    },
    {
     "data": {
      "image/png": "[encoded data removed]",
      "text/plain": [
       "<Figure size 432x288 with 1 Axes>"
      ]
     },
     "metadata": {
      "needs_background": "light"
     },
     "output_type": "display_data"
    }
   ],
   "source": [
    "#Initialize parameters and display\n",
    "a = np.random.rand(1) \n",
    "print(a) \n",
    "b = np.random.rand(1) \n",
    "print(b)\n",
    "\n",
    "#For the first iteration, the parameter values, losses, and visualization after the iteration are displayed \n",
    "a,b = iterate(a,b,x,y,1) \n",
    "prediction=model(a,b,x) \n",
    "loss = loss_function(a, b, x, y) \n",
    "print(a,b,loss) \n",
    "plt.scatter(x,y) \n",
    "plt.plot(x,prediction) "
   ]
  },
  {
   "cell_type": "markdown",
   "metadata": {},
   "source": [
    "Step 2 Perform the second iteration and display the parameter values, loss values, and visualization effect."
   ]
  },
  {
   "cell_type": "code",
   "execution_count": 7,
   "metadata": {},
   "outputs": [
    {
     "name": "stdout",
     "output_type": "stream",
     "text": [
      "[1.76354907] [0.14025149] 2.3941942520786728\n"
     ]
    },
    {
     "data": {
      "text/plain": [
       "[<matplotlib.lines.Line2D at 0x224473abd00>]"
      ]
     },
     "execution_count": 7,
     "metadata": {},
     "output_type": "execute_result"
    },
    {
     "data": {
      "image/png": "[encoded data removed]",
      "text/plain": [
       "<Figure size 432x288 with 1 Axes>"
      ]
     },
     "metadata": {
      "needs_background": "light"
     },
     "output_type": "display_data"
    }
   ],
   "source": [
    "a,b = iterate(a,b,x,y,2) \n",
    "prediction=model(a,b,x) \n",
    "loss = loss_function(a, b, x, y) \n",
    "print(a,b,loss) \n",
    "plt.scatter(x,y) \n",
    "plt.plot(x,prediction) "
   ]
  },
  {
   "cell_type": "markdown",
   "metadata": {},
   "source": [
    "Step 3 Perform the third iteration and display the parameter values, loss values, and visualization effect."
   ]
  },
  {
   "cell_type": "code",
   "execution_count": 8,
   "metadata": {},
   "outputs": [
    {
     "name": "stdout",
     "output_type": "stream",
     "text": [
      "[1.90684044] [0.15721829] 0.846555579126377\n"
     ]
    },
    {
     "data": {
      "text/plain": [
       "[<matplotlib.lines.Line2D at 0x22447412610>]"
      ]
     },
     "execution_count": 8,
     "metadata": {},
     "output_type": "execute_result"
    },
    {
     "data": {
      "image/png": "[encoded data removed]",
      "text/plain": [
       "<Figure size 432x288 with 1 Axes>"
      ]
     },
     "metadata": {
      "needs_background": "light"
     },
     "output_type": "display_data"
    }
   ],
   "source": [
    "a,b = iterate(a,b,x,y,3) \n",
    "prediction=model(a,b,x) \n",
    "loss = loss_function(a, b, x, y) \n",
    "print(a,b,loss) \n",
    "plt.scatter(x,y) \n",
    "plt.plot(x,prediction) "
   ]
  },
  {
   "cell_type": "markdown",
   "metadata": {},
   "source": [
    "Step 4 Perform the fourth iteration and display the parameter values, loss values, and visualization effect."
   ]
  },
  {
   "cell_type": "code",
   "execution_count": 9,
   "metadata": {},
   "outputs": [
    {
     "name": "stdout",
     "output_type": "stream",
     "text": [
      "[1.97666683] [0.16470148] 0.4799197825519237\n"
     ]
    },
    {
     "data": {
      "text/plain": [
       "[<matplotlib.lines.Line2D at 0x224473db550>]"
      ]
     },
     "execution_count": 9,
     "metadata": {},
     "output_type": "execute_result"
    },
    {
     "data": {
      "image/png": "[encoded data removed]",
      "text/plain": [
       "<Figure size 432x288 with 1 Axes>"
      ]
     },
     "metadata": {
      "needs_background": "light"
     },
     "output_type": "display_data"
    }
   ],
   "source": [
    "a,b = iterate(a,b,x,y,4) \n",
    "prediction=model(a,b,x) \n",
    "loss = loss_function(a, b, x, y) \n",
    "print(a,b,loss) \n",
    "plt.scatter(x,y) \n",
    "plt.plot(x,prediction) "
   ]
  },
  {
   "cell_type": "markdown",
   "metadata": {},
   "source": [
    "Step 5 Perform the fifth iteration and display the parameter values, loss values, and visualization effect."
   ]
  },
  {
   "cell_type": "code",
   "execution_count": 10,
   "metadata": {},
   "outputs": [
    {
     "name": "stdout",
     "output_type": "stream",
     "text": [
      "[2.01074449] [0.16757112] 0.39292988784740057\n"
     ]
    },
    {
     "data": {
      "text/plain": [
       "[<matplotlib.lines.Line2D at 0x224484a5700>]"
      ]
     },
     "execution_count": 10,
     "metadata": {},
     "output_type": "execute_result"
    },
    {
     "data": {
      "image/png": "[encoded data removed]",
      "text/plain": [
       "<Figure size 432x288 with 1 Axes>"
      ]
     },
     "metadata": {
      "needs_background": "light"
     },
     "output_type": "display_data"
    }
   ],
   "source": [
    "a,b = iterate(a,b,x,y,5) \n",
    "prediction=model(a,b,x) \n",
    "loss = loss_function(a, b, x, y) \n",
    "print(a,b,loss) \n",
    "plt.scatter(x,y) \n",
    "plt.plot(x,prediction) "
   ]
  },
  {
   "cell_type": "markdown",
   "metadata": {},
   "source": [
    "Step 6 Perform the 10000th iteration and display the parameter values, loss values, and visualization effect."
   ]
  },
  {
   "cell_type": "code",
   "execution_count": 11,
   "metadata": {},
   "outputs": [
    {
     "name": "stdout",
     "output_type": "stream",
     "text": [
      "[2.0274264] [0.16819701] 0.37215688357419136\n"
     ]
    },
    {
     "data": {
      "text/plain": [
       "[<matplotlib.lines.Line2D at 0x224484fcfa0>]"
      ]
     },
     "execution_count": 11,
     "metadata": {},
     "output_type": "execute_result"
    },
    {
     "data": {
      "image/png": "[encoded data removed]",
      "text/plain": [
       "<Figure size 432x288 with 1 Axes>"
      ]
     },
     "metadata": {
      "needs_background": "light"
     },
     "output_type": "display_data"
    }
   ],
   "source": [
    "a,b = iterate(a,b,x,y,10000) \n",
    "prediction=model(a,b,x) \n",
    "loss = loss_function(a, b, x, y) \n",
    "print(a,b,loss) \n",
    "plt.scatter(x,y) \n",
    "plt.plot(x,prediction) "
   ]
  },
  {
   "cell_type": "markdown",
   "metadata": {},
   "source": [
    "5.3 Thinking and Practices\n",
    "5.3.1 Question 1\n",
    "Must the loss value return to zero when the raw data is modified?\n",
    "\n",
    "**In most cases, a lower loss value is better, indicating that the model is making predictions that are closer to the true values. However, achieving a loss of exactly zero is often not realistic, especially in complex real-world datasets.**"
   ]
  },
  {
   "cell_type": "markdown",
   "metadata": {},
   "source": [
    "5.3.2 Question 2\n",
    "What is the function of Lr during Lr modification?\n",
    "\n",
    "*** The learning rate is a hyperparameter that determines the step size at which the model's parameters are updated during the training process. Overall, modifying the learning rate is an essential part of training machine learning models. It allows you to find the right balance between precision and speed in the optimization process. ***"
   ]
  }
 ],
 "metadata": {
  "kernelspec": {
   "display_name": "base",
   "language": "python",
   "name": "python3"
  },
  "language_info": {
   "codemirror_mode": {
    "name": "ipython",
    "version": 3
   },
   "file_extension": ".py",
   "mimetype": "text/x-python",
   "name": "python",
   "nbconvert_exporter": "python",
   "pygments_lexer": "ipython3",
   "version": "3.9.12"
  },
  "orig_nbformat": 4
 },
 "nbformat": 4,
 "nbformat_minor": 2
}
